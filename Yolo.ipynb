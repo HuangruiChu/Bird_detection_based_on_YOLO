{
 "cells": [
  {
   "cell_type": "markdown",
   "metadata": {},
   "source": [
    "# 如何利用YOLO进行鸟类检测"
   ]
  },
  {
   "cell_type": "markdown",
   "metadata": {},
   "source": [
    "储黄瑞"
   ]
  },
  {
   "cell_type": "markdown",
   "metadata": {},
   "source": [
    "更新内容，新增第二层的classifier，进一步分类鸟的种类   2021.5.25"
   ]
  },
  {
   "cell_type": "markdown",
   "metadata": {},
   "source": [
    "如果版本不符合要求，可以直接把yolo需要的包按照作者写的requirement安装一下。"
   ]
  },
  {
   "cell_type": "code",
   "execution_count": null,
   "metadata": {},
   "outputs": [],
   "source": [
    "#Python 3.8 or later with all requirements.txt dependencies installed, including torch>=1.7. To install run:\n",
    "pip install -r requirements.txt"
   ]
  },
  {
   "cell_type": "code",
   "execution_count": null,
   "metadata": {},
   "outputs": [],
   "source": [
    "import torch"
   ]
  },
  {
   "cell_type": "markdown",
   "metadata": {},
   "source": [
    "利用YOLO进行鸟类检测主要是利用它的detect这个文件\n",
    "detect可以输入的是 图片 视频 一个文件夹 或者是你的电脑摄像头 等其他数据来源。\n",
    "在检测鸟类的时候我推荐直接使用文件夹，然后把需要检测的图片和（或）视频全部放进这个文件夹里。"
   ]
  },
  {
   "cell_type": "code",
   "execution_count": null,
   "metadata": {},
   "outputs": [],
   "source": [
    "# Example syntax (do not run cell)\n",
    "!python detect_chr.py --source file.jpg  # image \n",
    "                           file.mp4  # video\n",
    "                           dir/  # directory\n",
    "                           0  # webcam\n",
    "                           'rtsp://170.93.143.139/rtplive/470011e600ef003a004ee33696235daa' # rtsp\n",
    "                           'http://112.50.243.8/PLTV/88888888/224/3221225900/1.m3u8'  # http"
   ]
  },
  {
   "cell_type": "markdown",
   "metadata": {},
   "source": [
    "在训练这个版本的yolo的参数中，classes 14 是鸟类，所以为了只选出判断结果为鸟类的框，在下面的detect中限制了class 是 14.\n",
    "weights 是模型训练的参数，可以选择的有yolov5s.pt,yolov5m.pt,yolov5l.pt,yolov5x.pt\n",
    "因为参数太大，所以文件夹里没有放。\n",
    "可以直接跑下面的程序。程序会自动下载。如果因为网络问题下载失败，也可以直接点击下面的链接手动下载参数。\n",
    "\n",
    "https://github.com/ultralytics/yolov5/releases/download/v3.0/yolov5x.pt"
   ]
  },
  {
   "cell_type": "markdown",
   "metadata": {},
   "source": [
    "device 0 是指在GPU上跑这个detect程序"
   ]
  },
  {
   "cell_type": "code",
   "execution_count": null,
   "metadata": {},
   "outputs": [],
   "source": [
    "!python detect_chr.py --source inference/images --weights yolov5x.pt  --classes 14 --device 0"
   ]
  }
 ],
 "metadata": {
  "kernelspec": {
   "display_name": "Python 3",
   "language": "python",
   "name": "python3"
  },
  "language_info": {
   "codemirror_mode": {
    "name": "ipython",
    "version": 3
   },
   "file_extension": ".py",
   "mimetype": "text/x-python",
   "name": "python",
   "nbconvert_exporter": "python",
   "pygments_lexer": "ipython3",
   "version": "3.8.5"
  }
 },
 "nbformat": 4,
 "nbformat_minor": 4
}
